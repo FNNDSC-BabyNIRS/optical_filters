{
 "cells": [
  {
   "cell_type": "code",
   "execution_count": null,
   "metadata": {},
   "outputs": [],
   "source": [
    "import pandas as pd\n",
    "import numpy as np"
   ]
  },
  {
   "cell_type": "code",
   "execution_count": null,
   "metadata": {},
   "outputs": [
    {
     "name": "stderr",
     "output_type": "stream",
     "text": [
      "/Library/Frameworks/Python.framework/Versions/3.9/lib/python3.9/site-packages/openpyxl/styles/stylesheet.py:226: UserWarning: Workbook contains no default style, apply openpyxl's default\n",
      "  warn(\"Workbook contains no default style, apply openpyxl's default\")\n"
     ]
    }
   ],
   "source": [
    "df = pd.read_excel('IVH_ND_Filters.xlsx')"
   ]
  },
  {
   "cell_type": "code",
   "execution_count": null,
   "metadata": {},
   "outputs": [],
   "source": [
    "df = df[['subject_id','Msmt #','probe', 'Filters Used', 'Notes']]"
   ]
  },
  {
   "cell_type": "code",
   "execution_count": null,
   "metadata": {},
   "outputs": [],
   "source": [
    "spot_df = df[(df['probe']=='NB5')]"
   ]
  },
  {
   "cell_type": "code",
   "execution_count": null,
   "metadata": {},
   "outputs": [
    {
     "data": {
      "text/html": [
       "<div>\n",
       "<style scoped>\n",
       "    .dataframe tbody tr th:only-of-type {\n",
       "        vertical-align: middle;\n",
       "    }\n",
       "\n",
       "    .dataframe tbody tr th {\n",
       "        vertical-align: top;\n",
       "    }\n",
       "\n",
       "    .dataframe thead th {\n",
       "        text-align: right;\n",
       "    }\n",
       "</style>\n",
       "<table border=\"1\" class=\"dataframe\">\n",
       "  <thead>\n",
       "    <tr style=\"text-align: right;\">\n",
       "      <th></th>\n",
       "      <th>subject_id</th>\n",
       "      <th>Msmt #</th>\n",
       "      <th>probe</th>\n",
       "      <th>Filters Used</th>\n",
       "      <th>Notes</th>\n",
       "    </tr>\n",
       "  </thead>\n",
       "  <tbody>\n",
       "    <tr>\n",
       "      <th>8</th>\n",
       "      <td>B125</td>\n",
       "      <td>NaN</td>\n",
       "      <td>NB5</td>\n",
       "      <td>(S1): CAL1034: 0.2 CAL2127: 0.2</td>\n",
       "      <td>general: \\nCALIB_1 (400,504,562,608): 0.2 ND\\n...</td>\n",
       "    </tr>\n",
       "    <tr>\n",
       "      <th>9</th>\n",
       "      <td>B095</td>\n",
       "      <td>NaN</td>\n",
       "      <td>NB5</td>\n",
       "      <td>(S1): CAL1034: 0.1 CAL2127: 0.2</td>\n",
       "      <td>general: \\nCALIB_1 (413,494,561,605): ND 0.1\\n...</td>\n",
       "    </tr>\n",
       "    <tr>\n",
       "      <th>10</th>\n",
       "      <td>B128</td>\n",
       "      <td>No measurement</td>\n",
       "      <td>NB5</td>\n",
       "      <td>(S1): CAL1034: -8 CAL2127: -8</td>\n",
       "      <td>general: \\nRF_1 (398,466,518,529): disregard</td>\n",
       "    </tr>\n",
       "    <tr>\n",
       "      <th>11</th>\n",
       "      <td>B128</td>\n",
       "      <td>2.0</td>\n",
       "      <td>NB5</td>\n",
       "      <td>(S1): CAL1034: 0.1 CAL2127: 0.2</td>\n",
       "      <td>general: patient extremely fussy so measuremen...</td>\n",
       "    </tr>\n",
       "    <tr>\n",
       "      <th>12</th>\n",
       "      <td>B110</td>\n",
       "      <td>15.0</td>\n",
       "      <td>NB5</td>\n",
       "      <td>(S1): CAL1034:  CAL2127:</td>\n",
       "      <td>general: \\nCALIB_1 (389,475,545,589): No Filte...</td>\n",
       "    </tr>\n",
       "    <tr>\n",
       "      <th>...</th>\n",
       "      <td>...</td>\n",
       "      <td>...</td>\n",
       "      <td>...</td>\n",
       "      <td>...</td>\n",
       "      <td>...</td>\n",
       "    </tr>\n",
       "    <tr>\n",
       "      <th>944</th>\n",
       "      <td>A002</td>\n",
       "      <td>9.0</td>\n",
       "      <td>NB5</td>\n",
       "      <td>NaN</td>\n",
       "      <td>DCS belta is around 1.6. need to look at data</td>\n",
       "    </tr>\n",
       "    <tr>\n",
       "      <th>951</th>\n",
       "      <td>A001</td>\n",
       "      <td>6.0</td>\n",
       "      <td>NB5</td>\n",
       "      <td>NaN</td>\n",
       "      <td>None</td>\n",
       "    </tr>\n",
       "    <tr>\n",
       "      <th>953</th>\n",
       "      <td>A001</td>\n",
       "      <td>5.0</td>\n",
       "      <td>NB5</td>\n",
       "      <td>NaN</td>\n",
       "      <td>pma 40 wks \\nbaby is not happy camper. we only...</td>\n",
       "    </tr>\n",
       "    <tr>\n",
       "      <th>956</th>\n",
       "      <td>A001</td>\n",
       "      <td>4.0</td>\n",
       "      <td>NB5</td>\n",
       "      <td>NaN</td>\n",
       "      <td>pma 39 wks\\nroom air</td>\n",
       "    </tr>\n",
       "    <tr>\n",
       "      <th>964</th>\n",
       "      <td>A001</td>\n",
       "      <td>1.0</td>\n",
       "      <td>NB5</td>\n",
       "      <td>NaN</td>\n",
       "      <td>baby is on high frequency jet ventilator\\nbeds...</td>\n",
       "    </tr>\n",
       "  </tbody>\n",
       "</table>\n",
       "<p>156 rows × 5 columns</p>\n",
       "</div>"
      ],
      "text/plain": [
       "    subject_id          Msmt # probe                     Filters Used  \\\n",
       "8         B125             NaN   NB5  (S1): CAL1034: 0.2 CAL2127: 0.2   \n",
       "9         B095             NaN   NB5  (S1): CAL1034: 0.1 CAL2127: 0.2   \n",
       "10        B128  No measurement   NB5    (S1): CAL1034: -8 CAL2127: -8   \n",
       "11        B128             2.0   NB5  (S1): CAL1034: 0.1 CAL2127: 0.2   \n",
       "12        B110            15.0   NB5         (S1): CAL1034:  CAL2127:   \n",
       "..         ...             ...   ...                              ...   \n",
       "944       A002             9.0   NB5                              NaN   \n",
       "951       A001             6.0   NB5                              NaN   \n",
       "953       A001             5.0   NB5                              NaN   \n",
       "956       A001             4.0   NB5                              NaN   \n",
       "964       A001             1.0   NB5                              NaN   \n",
       "\n",
       "                                                 Notes  \n",
       "8    general: \\nCALIB_1 (400,504,562,608): 0.2 ND\\n...  \n",
       "9    general: \\nCALIB_1 (413,494,561,605): ND 0.1\\n...  \n",
       "10        general: \\nRF_1 (398,466,518,529): disregard  \n",
       "11   general: patient extremely fussy so measuremen...  \n",
       "12   general: \\nCALIB_1 (389,475,545,589): No Filte...  \n",
       "..                                                 ...  \n",
       "944      DCS belta is around 1.6. need to look at data  \n",
       "951                                               None  \n",
       "953  pma 40 wks \\nbaby is not happy camper. we only...  \n",
       "956                               pma 39 wks\\nroom air  \n",
       "964  baby is on high frequency jet ventilator\\nbeds...  \n",
       "\n",
       "[156 rows x 5 columns]"
      ]
     },
     "execution_count": 5,
     "metadata": {},
     "output_type": "execute_result"
    }
   ],
   "source": [
    "spot_df"
   ]
  },
  {
   "cell_type": "code",
   "execution_count": null,
   "metadata": {},
   "outputs": [],
   "source": [
    "filters_used = (spot_df['Filters Used']).to_list()"
   ]
  },
  {
   "cell_type": "code",
   "execution_count": null,
   "metadata": {},
   "outputs": [
    {
     "data": {
      "text/plain": [
       "'\"\\n# Linear Iteration\\nfilter_info = filters_used[6]\\ni = 0\\ninfo = \\'\\'\\nwhile i < len(filter_info):\\n    info = info + filter_info[i]\\n    i = i+1\\n    print(\\'1st\\')\\n    print(\\'\\')\\n    print(info)\\n    print(\\'\\')\\n    #Once S1 is in info we start looking for the different filters\\n\\n    if \\'S1\\' in info:\\n        print(\\'S1 in info\\')\\n        print(\\'\\')\\n        print(info)\\n        filters_copy = filters.copy()\\n        info = \\'\\'\\n        i = i + 1\\n        info = info + filter_info[i]\\n\\n        #while we haven\\'t reach the S2 measurments we will look into the first session filters\\n        while \\'S2\\' not in info and i < len(filter_info):\\n            print(info)\\n            print(\\'\\')\\n            if \\'CAL\\' in info and len(info) > 6 :\\n                print(\\'CAL in info and len(info) > 6\\')\\n                print(\\'\\')\\n                print(info)\\n                print(\\'\\')\\n\\n                for index, fil in enumerate(filters_copy):\\n                    if fil in info: \\n                        filter_found = True\\n                        print(fil) \\n                        current_filter = fil\\n                        del filters_copy[index]\\n                        break\\n                    else: filter_found = False;  print(\\'F\\')\\n                print(info + \\'  Hola\\')\\n                if not filter_found: \\n                    print(\\'not filter_found\\')\\n                    i = i +1; info = info + filter_info[i] \\n\\n\\n                while filter_found: \\n                    print(\\'while\\')\\n                    print(filter_found)\\n                    if \\'.\\' in info:\\n                        print(\\'. found\\')\\n                        value = filter_info[i-1:i+2]\\n                        array = filters_dict[fil] \\n                        array = np.append(array,float(value))\\n                        filters_dict[fil] = array\\n                        info = \\'\\'\\n                        i = i+1; info = info + filter_info[i]\\n                        filter_found = False\\n                        print(filter_found)\\n\\n                    else: \\n                        if any(word.lower() in info.lower() for word in [\\'none\\', \\'na\\', \\'notes\\']):\\n                            print(\\'info \\'+ info)\\n                            info = \\'\\'\\n                            filter_found = False\\n                            print(filter_found)\\n\\n                        print(\\'not found yet\\')\\n                        print(filter_found)\\n                        print(info)\\n                        i = i+1; info = info + filter_info[i] \\n\\n            else: \\n                #print(i)\\n                i = i+1; \\n                try:\\n                    info = info +filter_info[i] \\n                except: break\\n\\n'"
      ]
     },
     "execution_count": 2,
     "metadata": {},
     "output_type": "execute_result"
    }
   ],
   "source": [
    "\"\"\"\"\n",
    "# Linear Iteration\n",
    "filter_info = filters_used[6]\n",
    "i = 0\n",
    "info = ''\n",
    "while i < len(filter_info):\n",
    "    info = info + filter_info[i]\n",
    "    i = i+1\n",
    "    print('1st')\n",
    "    print('')\n",
    "    print(info)\n",
    "    print('')\n",
    "    #Once S1 is in info we start looking for the different filters\n",
    "\n",
    "    if 'S1' in info:\n",
    "        print('S1 in info')\n",
    "        print('')\n",
    "        print(info)\n",
    "        filters_copy = filters.copy()\n",
    "        info = ''\n",
    "        i = i + 1\n",
    "        info = info + filter_info[i]\n",
    "\n",
    "        #while we haven't reach the S2 measurments we will look into the first session filters\n",
    "        while 'S2' not in info and i < len(filter_info):\n",
    "            print(info)\n",
    "            print('')\n",
    "            if 'CAL' in info and len(info) > 6 :\n",
    "                print('CAL in info and len(info) > 6')\n",
    "                print('')\n",
    "                print(info)\n",
    "                print('')\n",
    "\n",
    "                for index, fil in enumerate(filters_copy):\n",
    "                    if fil in info: \n",
    "                        filter_found = True\n",
    "                        print(fil) \n",
    "                        current_filter = fil\n",
    "                        del filters_copy[index]\n",
    "                        break\n",
    "                    else: filter_found = False;  print('F')\n",
    "                print(info + '  Hola')\n",
    "                if not filter_found: \n",
    "                    print('not filter_found')\n",
    "                    i = i +1; info = info + filter_info[i] \n",
    "\n",
    "\n",
    "                while filter_found: \n",
    "                    print('while')\n",
    "                    print(filter_found)\n",
    "                    if '.' in info:\n",
    "                        print('. found')\n",
    "                        value = filter_info[i-1:i+2]\n",
    "                        array = filters_dict[fil] \n",
    "                        array = np.append(array,float(value))\n",
    "                        filters_dict[fil] = array\n",
    "                        info = ''\n",
    "                        i = i+1; info = info + filter_info[i]\n",
    "                        filter_found = False\n",
    "                        print(filter_found)\n",
    "\n",
    "                    else: \n",
    "                        if any(word.lower() in info.lower() for word in ['none', 'na', 'notes']):\n",
    "                            print('info '+ info)\n",
    "                            info = ''\n",
    "                            filter_found = False\n",
    "                            print(filter_found)\n",
    "\n",
    "                        print('not found yet')\n",
    "                        print(filter_found)\n",
    "                        print(info)\n",
    "                        i = i+1; info = info + filter_info[i] \n",
    "\n",
    "            else: \n",
    "                #print(i)\n",
    "                i = i+1; \n",
    "                try:\n",
    "                    info = info +filter_info[i] \n",
    "                except: break\n",
    "\n",
    "\"\"\""
   ]
  },
  {
   "cell_type": "code",
   "execution_count": null,
   "metadata": {},
   "outputs": [],
   "source": [
    "\n",
    "def changing_limiting_values(counter,info,value_1,value_2,string_value,filters_to_find,ses_dicts,note_dict,filt_idx):\n",
    "    if value_1 in info:\n",
    "        #print(value_1 + ' in info')\n",
    "        #print('')\n",
    "        #print(info)\n",
    "        filters_copy = filters_to_find.copy()\n",
    "        info = ''\n",
    "        counter = counter + 1\n",
    "        info = info + string_value[counter]\n",
    "\n",
    "        #while we haven't reach the S2 measurments we will look into the first session filters\n",
    "        while value_2 not in info and counter < len(string_value):\n",
    "            #print(info)\n",
    "            #print('')\n",
    "            if 'CAL' in info and len(info) > 6 :\n",
    "                #print('CAL in info and len(info) > 6')\n",
    "                #print('')\n",
    "                #print(info)\n",
    "                #print('')\n",
    "\n",
    "                for index, fil in enumerate(filters_copy):\n",
    "                    if fil in info: \n",
    "                        filter_found = True\n",
    "                        #print(fil) \n",
    "                        del filters_copy[index]\n",
    "                        break\n",
    "                    else: filter_found = False;  \n",
    "                \n",
    "                if not filter_found: \n",
    "                    #print('not filter_found')\n",
    "                    counter = counter +1; \n",
    "                    try: info = info + string_value[counter] \n",
    "                    except: break\n",
    "\n",
    "\n",
    "                while filter_found: \n",
    "                    if '.' in info:\n",
    "                        value = string_value[counter-1:counter+2]\n",
    "                        array = ses_dicts[value_1][fil] \n",
    "                        array = np.append(array,float(value))\n",
    "                        ses_dicts[value_1][fil]  = array\n",
    "                        info = ''\n",
    "                        counter = counter+1; info = info + string_value[counter]\n",
    "                        filter_found = False\n",
    "\n",
    "                    else: \n",
    "                        if any(word.lower() in info.lower() for word in ['none', 'na', 'notes', 'no filter']):\n",
    "                            if 'notes' in info: \n",
    "                                note_array = note_dict[value_1][fil] \n",
    "                                note_array = np.append(note_array, filt_idx)\n",
    "                                note_dict[value_1][fil] = note_array\n",
    "                            info = ''\n",
    "                            filter_found = False\n",
    "\n",
    "                        counter = counter+1; \n",
    "                        try: info = info + string_value[counter] \n",
    "                        except: break\n",
    "                        \n",
    "\n",
    "            else: \n",
    "                #print(i)\n",
    "                counter = counter+1; \n",
    "                try:\n",
    "                    info = info +string_value[counter] \n",
    "                except: break\n",
    "    return ses_dicts, note_dict, counter, info"
   ]
  },
  {
   "cell_type": "code",
   "execution_count": null,
   "metadata": {},
   "outputs": [],
   "source": [
    "def find_values_between_strvalues(string_value_to_analyze,limiting_str_values,values_to_find,s_dicts,nots_dict,filter_index):\n",
    "     \n",
    "    i = 0\n",
    "    info = ''\n",
    "    lim_value_counter = 0\n",
    "    time_to_break = False\n",
    "\n",
    "    while i < len(string_value_to_analyze): \n",
    "        info = info + string_value_to_analyze[i]\n",
    "        i = i+1\n",
    "        #print('1st')\n",
    "        #print('')\n",
    "        #print('info ' +info)\n",
    "        #print('')\n",
    "        #print(limiting_str_values[lim_value_counter])\n",
    "        \n",
    "        if limiting_str_values[lim_value_counter] in info:\n",
    "            if info in string_value_to_analyze:\n",
    "                lim_value_1 = limiting_str_values[lim_value_counter]\n",
    "                #print(lim_value_counter)\n",
    "                #print(len(limiting_str_values) - 1 )\n",
    "                if lim_value_counter == len(limiting_str_values) - 1 :\n",
    "                    #print('Entered 2nd if')\n",
    "                    lim_value_2= 'shgkjsdhag'; time_to_break = True\n",
    "\n",
    "                else: lim_value_2 = limiting_str_values[lim_value_counter + 1]\n",
    "\n",
    "            s_dicts,nots_dict,i,info2 = changing_limiting_values(i,info,lim_value_1,lim_value_2,string_value_to_analyze,values_to_find,s_dicts,nots_dict,filter_index)\n",
    "            lim_value_counter = lim_value_counter + 1\n",
    "            info = info2\n",
    "            i = i+1\n",
    "        \n",
    "        if time_to_break:\n",
    "            break\n",
    "        #print('while info: ' +info)\n",
    "    \n",
    "    return s_dicts, nots_dict"
   ]
  },
  {
   "cell_type": "code",
   "execution_count": null,
   "metadata": {},
   "outputs": [],
   "source": [
    "#filter_info = filters_used[8]\n",
    "i = 0\n",
    "info = ''\n",
    "filters_dict = {}\n",
    "filters_dict['1034']=[]; filters_dict['1084'] = []; filters_dict['2127'] =[];\n",
    "sesion_dicts = {}\n",
    "sesion_dicts['S1'] = filters_dict.copy();sesion_dicts['S2'] = filters_dict.copy(); sesion_dicts['S3'] = filters_dict.copy() \n",
    "notes_dict = {}\n",
    "notes_dict['S1'] = filters_dict.copy();notes_dict['S2'] = filters_dict.copy(); notes_dict['S3'] = filters_dict.copy() \n",
    "\n",
    "filters = ['1034', '1084', '2127']\n",
    "exceptions = []\n",
    "no_session = []\n",
    "discarded = []\n",
    "# A function to find values between string values in this case between 'S1' and 'S2'\n",
    "limiting_str_values = ['S1','S2', 'S3']\n",
    "\n",
    "for f_index,filter_ in enumerate(filters_used):\n",
    "    \n",
    "    limiting_str_values = ['S1','S2', 'S3']\n",
    "  \n",
    "    if 'nan' == str(filter_): \n",
    "        discarded = np.append(discarded,f_index)\n",
    "        #print(str(f_index)+ ' discarded')\n",
    "\n",
    "    elif '+' in filter_:\n",
    "        exceptions = np.append(exceptions,f_index)\n",
    "        #print(str(f_index)+ ' is an exception +')\n",
    "\n",
    "    \n",
    "    elif filter_== 'none':\n",
    "        #print(str(f_index) + ' discarded')\n",
    "        discarded = np.append(discarded,f_index)\n",
    "\n",
    "\n",
    "   \n",
    "        \n",
    "\n",
    "    elif limiting_str_values[0] in filter_:\n",
    "\n",
    "        for idx, lim_value, in reversed(list(enumerate(limiting_str_values))):\n",
    "            if lim_value not in filter_:\n",
    "                del limiting_str_values[idx]\n",
    "            else: break\n",
    "\n",
    "        sesion_dicts,notes_dict = find_values_between_strvalues(filter_,limiting_str_values,filters,sesion_dicts,notes_dict,f_index)\n",
    "    \n",
    "    else: \n",
    "        #print(str(f_index) + ' is an exception --> no session'); \n",
    "        no_session = np.append(no_session,f_index)"
   ]
  },
  {
   "cell_type": "code",
   "execution_count": null,
   "metadata": {},
   "outputs": [
    {
     "data": {
      "text/plain": [
       "'0.1 on 2127'"
      ]
     },
     "execution_count": 38,
     "metadata": {},
     "output_type": "execute_result"
    }
   ],
   "source": [
    "filters_used[123]"
   ]
  },
  {
   "cell_type": "code",
   "execution_count": null,
   "metadata": {},
   "outputs": [
    {
     "data": {
      "text/plain": [
       "{'S1': {'1034': array([0.2, 0.1, 0.1, 0.1, 0.5, 0.1, 0.2, 0.2, 0.1, 0.1, 0.1, 0.1, 0.3,\n",
       "         0.2, 0.2, 0.3, 0.3, 0.1, 0.2, 0.1, 0.1, 0.4, 0.2, 0.1, 0.1, 0.2,\n",
       "         0.1, 0.2, 0.2, 0.3, 0.1, 0.1, 0.1, 0.4, 0.3, 0.2, 0.2, 0.1, 0.1,\n",
       "         0.1, 0.2, 0.1, 0.1, 0.2, 0.1, 0.1, 0.2, 0.1, 0.2, 0.2, 0.1, 0.2,\n",
       "         0.2, 0.2, 0.2, 0.2, 0.2, 0.2, 0.2, 0.2, 0.1, 0.2, 0.2, 0.1, 0.1,\n",
       "         0.1, 0.1, 0.1, 0.1, 0.1, 0.2, 0.1, 0.2, 0.2, 0.1, 0.2, 0.2, 0.1,\n",
       "         0.1, 0.1, 0.1, 0.2, 0.2, 0.2, 0.1, 0.1, 0.1, 0.1, 0.1, 0.1, 0.1,\n",
       "         0.1]),\n",
       "  '1084': array([0.1, 0.2, 0.1, 0.1, 0.2, 0.2, 0.1, 0.2]),\n",
       "  '2127': array([0.2, 0.2, 0.2, 0.1, 0.1, 0.1, 0.2, 0.6, 0.2, 0.3, 0.3, 0.2, 0.2,\n",
       "         0.2, 0.2, 0.6, 0.3, 0.3, 0.4, 0.3, 0.1, 0.3, 0.3, 0.1, 0.2, 0.5,\n",
       "         0.3, 0.1, 0.1, 0.3, 0.2, 0.1, 0.3, 0.2, 0.3, 0.1, 0.2, 0.1, 0.4,\n",
       "         0.5, 0.2, 0.3, 0.1, 0.1, 0.1, 0.2, 0.2, 0.2, 0.2, 0.1, 0.2, 0.2,\n",
       "         0.2, 0.2, 0.3, 0.2, 0.2, 0.2, 0.2, 0.3, 0.3, 0.3, 0.3, 0.3, 0.3,\n",
       "         0.2, 0.3, 0.1, 0.3, 0.2, 0.2, 0.1, 0.2, 0.1, 0.2, 0.2, 0.2, 0.2,\n",
       "         0.2, 0.3, 0.3, 0.2, 0.4, 0.4, 0.1, 0.1, 0.1, 0.2, 0.1, 0.2, 0.1,\n",
       "         0.1, 0.2, 0.3, 0.1, 0.1, 0.2, 0.2, 0.1, 0.2, 0.2, 0.2, 0.2, 0.3,\n",
       "         0.2])},\n",
       " 'S2': {'1034': array([0.3, 0.6, 0.3, 0.3, 0.2, 0.3, 0.6, 0.3, 0.3, 0.2, 0.3, 0.1, 0.2,\n",
       "         0.3, 0.1, 0.3, 0.2, 0.5]),\n",
       "  '1084': array([0.1, 0.3]),\n",
       "  '2127': array([0.4, 0.7, 0.5, 0.4, 0.2, 0.4, 0.9, 0.3, 0.3, 0.3, 0.5, 0.1, 0.1,\n",
       "         0.2, 0.5, 0.2, 0.4, 0.4, 0.6, 0.4])},\n",
       " 'S3': {'1034': [], '1084': [], '2127': []}}"
      ]
     },
     "execution_count": 97,
     "metadata": {},
     "output_type": "execute_result"
    }
   ],
   "source": [
    "sesion_dicts"
   ]
  },
  {
   "cell_type": "code",
   "execution_count": null,
   "metadata": {},
   "outputs": [
    {
     "data": {
      "text/plain": [
       "{'S1': {'1034': array([ 28.,  48.,  55.,  62.,  67.,  85., 115., 116.]),\n",
       "  '1084': array([114.]),\n",
       "  '2127': array([ 28.,  48.,  55.,  62.,  67.,  85., 115., 116.])},\n",
       " 'S2': {'1034': array([ 48.,  55.,  62.,  67., 115., 116.]),\n",
       "  '1084': [],\n",
       "  '2127': array([ 48.,  55.,  62.,  67., 115., 116.])},\n",
       " 'S3': {'1034': array([ 48., 116.]), '1084': [], '2127': array([ 48., 116.])}}"
      ]
     },
     "execution_count": 98,
     "metadata": {},
     "output_type": "execute_result"
    }
   ],
   "source": [
    "notes_dict"
   ]
  },
  {
   "cell_type": "code",
   "execution_count": null,
   "metadata": {},
   "outputs": [
    {
     "data": {
      "text/plain": [
       "array([57., 74., 78., 79., 86.])"
      ]
     },
     "execution_count": 99,
     "metadata": {},
     "output_type": "execute_result"
    }
   ],
   "source": [
    "exceptions"
   ]
  },
  {
   "cell_type": "code",
   "execution_count": null,
   "metadata": {},
   "outputs": [
    {
     "data": {
      "text/plain": [
       "array([123., 124., 125., 126., 127., 128., 129., 130., 131., 132., 133.,\n",
       "       135., 137., 138., 139., 141.])"
      ]
     },
     "execution_count": 100,
     "metadata": {},
     "output_type": "execute_result"
    }
   ],
   "source": [
    "no_session"
   ]
  },
  {
   "cell_type": "markdown",
   "metadata": {},
   "source": [
    "## MANUAL PROCESSING"
   ]
  },
  {
   "cell_type": "code",
   "execution_count": null,
   "metadata": {},
   "outputs": [
    {
     "name": "stdout",
     "output_type": "stream",
     "text": [
      "(S1): CAL1034: 0.2 CAL2127: 0.2 (S2): CAL1034: 0.3+0.1 CAL2127: 0.6\n",
      "(S1): CAL1034: 0.3 ND CAL2127: 0.1 + 0.3 ND (S2): CAL1034: 0.5 ND CAL2127: 0.5 ND + 0.1 ND\n",
      "(S1): CAL1034: 0.1 + 0.5 ND CAL2127: 0.7 ND\n",
      "(S1): CAL1034: 0.3 + 0.1 CAL2127: 0.5\n",
      "(S1): CAL1034: 0.2 ND + 0.3 ND CAL2127: 0.6 ND + 0.1 ND\n"
     ]
    }
   ],
   "source": [
    "for exception in exceptions: \n",
    "    print(filters_used[int(exception)])"
   ]
  },
  {
   "cell_type": "code",
   "execution_count": null,
   "metadata": {},
   "outputs": [],
   "source": [
    "S1_1034 = sesion_dicts['S1']['1034']\n",
    "S1_2127 = sesion_dicts['S1']['2127']\n",
    "S2_1034 = sesion_dicts['S2']['1034']\n",
    "S2_2127 = sesion_dicts['S2']['2127']"
   ]
  },
  {
   "cell_type": "code",
   "execution_count": null,
   "metadata": {},
   "outputs": [],
   "source": [
    "S1_1034 = np.append(S1_1034,[0.2,0.3,0.6,0.4,0.5])\n",
    "S1_2127 = np.append(S1_2127,[0.2,0.4,0.7,0.5,0.7])\n",
    "S2_1034 = np.append(S2_1034,[0.4,0.5])\n",
    "S2_2127 = np.append(S2_2127,[0.6,0.6])\n",
    "\n",
    "sesion_dicts['S1']['1034'] = S1_1034\n",
    "sesion_dicts['S1']['2127'] = S1_2127\n",
    "sesion_dicts['S2']['1034'] = S2_1034\n",
    "sesion_dicts['S2']['2127'] = S2_2127\n"
   ]
  },
  {
   "cell_type": "code",
   "execution_count": null,
   "metadata": {},
   "outputs": [
    {
     "data": {
      "text/plain": [
       "array([ 28.,  48.,  55.,  62.,  67.,  85., 115., 116.])"
      ]
     },
     "execution_count": 110,
     "metadata": {},
     "output_type": "execute_result"
    }
   ],
   "source": [
    "notes_dict['S1']['1034']"
   ]
  },
  {
   "cell_type": "code",
   "execution_count": null,
   "metadata": {},
   "outputs": [
    {
     "data": {
      "text/plain": [
       "array([ 28.,  48.,  55.,  62.,  67.,  85., 115., 116.])"
      ]
     },
     "execution_count": 111,
     "metadata": {},
     "output_type": "execute_result"
    }
   ],
   "source": [
    "notes_dict['S1']['2127']"
   ]
  },
  {
   "cell_type": "code",
   "execution_count": 114,
   "metadata": {},
   "outputs": [
    {
     "data": {
      "text/plain": [
       "'general: Bed: 901B\\nCAL1034_1 (581,712,718,713): 0.8 ND\\nCAL2127_1 (581,712,718,713): 1.0 ND\\nLP_1 (581,712,718,713): Slight room light on D\\nLP_2 (581,712,718,713): Sats, disregard\\nLP_3 (581,712,718,713): Slight room light on B, C, and D\\nLP_4 (581,712,718,713): Slight room light on B, C, and D\\nLP_5 (581,712,718,713): Slight room light on B, C, and D. Slight movement and sats in last 10 seconds\\nCAL1034_1 (403,458,504,548): 0.1 ND\\nCAL2127_1 (403,458,504,548): 0.1 ND\\nRF_1 (403,458,504,548): Good\\nRF_2 (403,458,504,548): Good\\nRF_3 (403,458,504,548): Good\\nRF_4 (403,458,504,548): Good\\nRF_5 (403,458,504,548): slight movement in last 2 seconds\\nRF_6 (403,458,504,548): Good\\nLF_1 (403,458,504,548): Good\\nLF_2 (403,458,504,548): Good\\nLF_3 (403,458,504,548): Movement at 22, 16, and last 2 (Disregard)\\nLF_4 (403,458,504,548): Good\\nLF_5 (403,458,504,548): Good\\nLF_6 (403,458,504,548): Good\\nLF_7 (403,458,504,548): Good\\nCAL1034_1 (431,518,584,622): 0.2 ND\\nCAL2127_1 (431,518,584,622): 0.2 ND\\nRT_1 (431,518,584,622): Good\\nRT_2 (431,518,584,622): Good\\nRT_3 (431,518,584,622): Good\\nCAL1034_2 (403,458,504,548): 0.1 ND\\nCAL2127_2 (403,458,504,548): 0.1 ND\\nCAL1034_2 (431,518,584,622): 0.2 ND\\nCAL2127_2 (431,518,584,622): 0.2 ND\\nCAL1034_2 (581,712,718,713): 0.8 ND\\nCAL2127_2 (581,712,718,713): 0.1 ND\\nRT_4 (431,518,584,622): \\nCALIB_1 (403,458,504,548): \\nCALIB_1 (431,518,584,622): \\nCALIB_1 (581,712,718,713): '"
      ]
     },
     "execution_count": 114,
     "metadata": {},
     "output_type": "execute_result"
    }
   ],
   "source": [
    "notes_list = spot_df['Notes'].to_list()\n",
    "notes_list[48]"
   ]
  },
  {
   "cell_type": "code",
   "execution_count": null,
   "metadata": {},
   "outputs": [],
   "source": []
  },
  {
   "cell_type": "code",
   "execution_count": 108,
   "metadata": {},
   "outputs": [],
   "source": [
    "S1_1034 = sesion_dicts['S1']['1034']\n",
    "S1_2127 = sesion_dicts['S1']['2127']"
   ]
  },
  {
   "cell_type": "code",
   "execution_count": null,
   "metadata": {},
   "outputs": [],
   "source": [
    "S1_1034 = np.append(S1_1034,[0.1,])\n",
    "S1_2127 = np.append(S1_2127,[0.2])"
   ]
  },
  {
   "cell_type": "code",
   "execution_count": null,
   "metadata": {},
   "outputs": [],
   "source": [
    "# Questions for Jason, is a sum just a sum or does it mean anything else"
   ]
  },
  {
   "cell_type": "code",
   "execution_count": 107,
   "metadata": {},
   "outputs": [
    {
     "data": {
      "text/plain": [
       "'(S1): CAL1034: see notes CAL2127: see notes'"
      ]
     },
     "execution_count": 107,
     "metadata": {},
     "output_type": "execute_result"
    }
   ],
   "source": [
    "filters_used[28]"
   ]
  },
  {
   "cell_type": "code",
   "execution_count": null,
   "metadata": {},
   "outputs": [],
   "source": []
  }
 ],
 "metadata": {
  "kernelspec": {
   "display_name": "BwhHarvard",
   "language": "python",
   "name": "python3"
  },
  "language_info": {
   "codemirror_mode": {
    "name": "ipython",
    "version": 3
   },
   "file_extension": ".py",
   "mimetype": "text/x-python",
   "name": "python",
   "nbconvert_exporter": "python",
   "pygments_lexer": "ipython3",
   "version": "3.9.5"
  }
 },
 "nbformat": 4,
 "nbformat_minor": 2
}
