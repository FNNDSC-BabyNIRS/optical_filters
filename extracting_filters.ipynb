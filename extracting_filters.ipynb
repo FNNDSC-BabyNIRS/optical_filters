{
 "cells": [
  {
   "cell_type": "code",
   "execution_count": 1,
   "metadata": {},
   "outputs": [],
   "source": [
    "import pandas as pd"
   ]
  },
  {
   "cell_type": "code",
   "execution_count": 2,
   "metadata": {},
   "outputs": [
    {
     "name": "stderr",
     "output_type": "stream",
     "text": [
      "/Library/Frameworks/Python.framework/Versions/3.9/lib/python3.9/site-packages/openpyxl/styles/stylesheet.py:226: UserWarning: Workbook contains no default style, apply openpyxl's default\n",
      "  warn(\"Workbook contains no default style, apply openpyxl's default\")\n"
     ]
    }
   ],
   "source": [
    "df = pd.read_excel('IVH_ND_Filters.xlsx')"
   ]
  },
  {
   "cell_type": "code",
   "execution_count": 4,
   "metadata": {},
   "outputs": [],
   "source": [
    "df = df[['subject_id','Msmt #','probe', 'Filters Used', 'Notes']]"
   ]
  },
  {
   "cell_type": "code",
   "execution_count": 5,
   "metadata": {},
   "outputs": [
    {
     "data": {
      "text/html": [
       "<div>\n",
       "<style scoped>\n",
       "    .dataframe tbody tr th:only-of-type {\n",
       "        vertical-align: middle;\n",
       "    }\n",
       "\n",
       "    .dataframe tbody tr th {\n",
       "        vertical-align: top;\n",
       "    }\n",
       "\n",
       "    .dataframe thead th {\n",
       "        text-align: right;\n",
       "    }\n",
       "</style>\n",
       "<table border=\"1\" class=\"dataframe\">\n",
       "  <thead>\n",
       "    <tr style=\"text-align: right;\">\n",
       "      <th></th>\n",
       "      <th>subject_id</th>\n",
       "      <th>Msmt #</th>\n",
       "      <th>probe</th>\n",
       "      <th>Filters Used</th>\n",
       "      <th>Notes</th>\n",
       "    </tr>\n",
       "  </thead>\n",
       "  <tbody>\n",
       "    <tr>\n",
       "      <th>0</th>\n",
       "      <td>B132</td>\n",
       "      <td>CM</td>\n",
       "      <td>NICUCM1</td>\n",
       "      <td>(S2): CAL1034:  CAL1084:  CAL2127:</td>\n",
       "      <td>general: tiepie started at 14:34 on 2/13\\nmsmt...</td>\n",
       "    </tr>\n",
       "    <tr>\n",
       "      <th>1</th>\n",
       "      <td>B132</td>\n",
       "      <td>CM</td>\n",
       "      <td>NICUCM1</td>\n",
       "      <td>(S1): CAL1034: No Filter CAL1084: N/A CAL2127:...</td>\n",
       "      <td>general: msmt started at 11:53\\ndrapes on at 1...</td>\n",
       "    </tr>\n",
       "    <tr>\n",
       "      <th>2</th>\n",
       "      <td>B132</td>\n",
       "      <td>CM</td>\n",
       "      <td>NICUCM1</td>\n",
       "      <td>(S1): CAL1034: see notes CAL1084: N/A CAL2127:...</td>\n",
       "      <td>general: tiepie started: 21:15\\nmsmt start: 21...</td>\n",
       "    </tr>\n",
       "    <tr>\n",
       "      <th>3</th>\n",
       "      <td>B131</td>\n",
       "      <td>CM</td>\n",
       "      <td>NICUCM1</td>\n",
       "      <td>(S3): CAL1034:  CAL1084:  CAL2127:</td>\n",
       "      <td>general: Transfusion going when we entered roo...</td>\n",
       "    </tr>\n",
       "    <tr>\n",
       "      <th>4</th>\n",
       "      <td>B131</td>\n",
       "      <td>CM</td>\n",
       "      <td>NICUCM1</td>\n",
       "      <td>(S1): CAL1034: see notes CAL1084: N/A CAL2127:...</td>\n",
       "      <td>general: cath lab A\\n\\nProcedure start time &amp; ...</td>\n",
       "    </tr>\n",
       "    <tr>\n",
       "      <th>...</th>\n",
       "      <td>...</td>\n",
       "      <td>...</td>\n",
       "      <td>...</td>\n",
       "      <td>...</td>\n",
       "      <td>...</td>\n",
       "    </tr>\n",
       "    <tr>\n",
       "      <th>960</th>\n",
       "      <td>A003</td>\n",
       "      <td>1.0</td>\n",
       "      <td>preemie5</td>\n",
       "      <td>NaN</td>\n",
       "      <td>GA:29 wks\\npma:33 wks\\nREDACTED DOB\\nbaby move...</td>\n",
       "    </tr>\n",
       "    <tr>\n",
       "      <th>961</th>\n",
       "      <td>A002</td>\n",
       "      <td>2.0</td>\n",
       "      <td>NaN</td>\n",
       "      <td>NaN</td>\n",
       "      <td>NaN</td>\n",
       "    </tr>\n",
       "    <tr>\n",
       "      <th>962</th>\n",
       "      <td>A001</td>\n",
       "      <td>2.0</td>\n",
       "      <td>preemie5</td>\n",
       "      <td>NaN</td>\n",
       "      <td>None</td>\n",
       "    </tr>\n",
       "    <tr>\n",
       "      <th>963</th>\n",
       "      <td>A002</td>\n",
       "      <td>1.0</td>\n",
       "      <td>preemie5</td>\n",
       "      <td>NaN</td>\n",
       "      <td>GA:26 wks\\npma:30 wks\\nhas ecg leads on\\nbaby ...</td>\n",
       "    </tr>\n",
       "    <tr>\n",
       "      <th>964</th>\n",
       "      <td>A001</td>\n",
       "      <td>1.0</td>\n",
       "      <td>NB5</td>\n",
       "      <td>NaN</td>\n",
       "      <td>baby is on high frequency jet ventilator\\nbeds...</td>\n",
       "    </tr>\n",
       "  </tbody>\n",
       "</table>\n",
       "<p>965 rows × 5 columns</p>\n",
       "</div>"
      ],
      "text/plain": [
       "    subject_id Msmt #     probe  \\\n",
       "0         B132     CM   NICUCM1   \n",
       "1         B132     CM   NICUCM1   \n",
       "2         B132     CM   NICUCM1   \n",
       "3         B131     CM   NICUCM1   \n",
       "4         B131     CM   NICUCM1   \n",
       "..         ...    ...       ...   \n",
       "960       A003    1.0  preemie5   \n",
       "961       A002    2.0       NaN   \n",
       "962       A001    2.0  preemie5   \n",
       "963       A002    1.0  preemie5   \n",
       "964       A001    1.0       NB5   \n",
       "\n",
       "                                          Filters Used  \\\n",
       "0                   (S2): CAL1034:  CAL1084:  CAL2127:   \n",
       "1    (S1): CAL1034: No Filter CAL1084: N/A CAL2127:...   \n",
       "2    (S1): CAL1034: see notes CAL1084: N/A CAL2127:...   \n",
       "3                  (S3): CAL1034:  CAL1084:  CAL2127:    \n",
       "4    (S1): CAL1034: see notes CAL1084: N/A CAL2127:...   \n",
       "..                                                 ...   \n",
       "960                                                NaN   \n",
       "961                                                NaN   \n",
       "962                                                NaN   \n",
       "963                                                NaN   \n",
       "964                                                NaN   \n",
       "\n",
       "                                                 Notes  \n",
       "0    general: tiepie started at 14:34 on 2/13\\nmsmt...  \n",
       "1    general: msmt started at 11:53\\ndrapes on at 1...  \n",
       "2    general: tiepie started: 21:15\\nmsmt start: 21...  \n",
       "3    general: Transfusion going when we entered roo...  \n",
       "4    general: cath lab A\\n\\nProcedure start time & ...  \n",
       "..                                                 ...  \n",
       "960  GA:29 wks\\npma:33 wks\\nREDACTED DOB\\nbaby move...  \n",
       "961                                                NaN  \n",
       "962                                               None  \n",
       "963  GA:26 wks\\npma:30 wks\\nhas ecg leads on\\nbaby ...  \n",
       "964  baby is on high frequency jet ventilator\\nbeds...  \n",
       "\n",
       "[965 rows x 5 columns]"
      ]
     },
     "execution_count": 5,
     "metadata": {},
     "output_type": "execute_result"
    }
   ],
   "source": [
    "df"
   ]
  },
  {
   "cell_type": "code",
   "execution_count": 18,
   "metadata": {},
   "outputs": [],
   "source": [
    "spot_df = df[(df['probe']=='NB5')]"
   ]
  },
  {
   "cell_type": "code",
   "execution_count": 19,
   "metadata": {},
   "outputs": [
    {
     "data": {
      "text/html": [
       "<div>\n",
       "<style scoped>\n",
       "    .dataframe tbody tr th:only-of-type {\n",
       "        vertical-align: middle;\n",
       "    }\n",
       "\n",
       "    .dataframe tbody tr th {\n",
       "        vertical-align: top;\n",
       "    }\n",
       "\n",
       "    .dataframe thead th {\n",
       "        text-align: right;\n",
       "    }\n",
       "</style>\n",
       "<table border=\"1\" class=\"dataframe\">\n",
       "  <thead>\n",
       "    <tr style=\"text-align: right;\">\n",
       "      <th></th>\n",
       "      <th>subject_id</th>\n",
       "      <th>Msmt #</th>\n",
       "      <th>probe</th>\n",
       "      <th>Filters Used</th>\n",
       "      <th>Notes</th>\n",
       "    </tr>\n",
       "  </thead>\n",
       "  <tbody>\n",
       "    <tr>\n",
       "      <th>8</th>\n",
       "      <td>B125</td>\n",
       "      <td>NaN</td>\n",
       "      <td>NB5</td>\n",
       "      <td>(S1): CAL1034: 0.2 CAL2127: 0.2</td>\n",
       "      <td>general: \\nCALIB_1 (400,504,562,608): 0.2 ND\\n...</td>\n",
       "    </tr>\n",
       "    <tr>\n",
       "      <th>9</th>\n",
       "      <td>B095</td>\n",
       "      <td>NaN</td>\n",
       "      <td>NB5</td>\n",
       "      <td>(S1): CAL1034: 0.1 CAL2127: 0.2</td>\n",
       "      <td>general: \\nCALIB_1 (413,494,561,605): ND 0.1\\n...</td>\n",
       "    </tr>\n",
       "    <tr>\n",
       "      <th>10</th>\n",
       "      <td>B128</td>\n",
       "      <td>No measurement</td>\n",
       "      <td>NB5</td>\n",
       "      <td>(S1): CAL1034: -8 CAL2127: -8</td>\n",
       "      <td>general: \\nRF_1 (398,466,518,529): disregard</td>\n",
       "    </tr>\n",
       "    <tr>\n",
       "      <th>11</th>\n",
       "      <td>B128</td>\n",
       "      <td>2.0</td>\n",
       "      <td>NB5</td>\n",
       "      <td>(S1): CAL1034: 0.1 CAL2127: 0.2</td>\n",
       "      <td>general: patient extremely fussy so measuremen...</td>\n",
       "    </tr>\n",
       "    <tr>\n",
       "      <th>12</th>\n",
       "      <td>B110</td>\n",
       "      <td>15.0</td>\n",
       "      <td>NB5</td>\n",
       "      <td>(S1): CAL1034:  CAL2127:</td>\n",
       "      <td>general: \\nCALIB_1 (389,475,545,589): No Filte...</td>\n",
       "    </tr>\n",
       "    <tr>\n",
       "      <th>...</th>\n",
       "      <td>...</td>\n",
       "      <td>...</td>\n",
       "      <td>...</td>\n",
       "      <td>...</td>\n",
       "      <td>...</td>\n",
       "    </tr>\n",
       "    <tr>\n",
       "      <th>944</th>\n",
       "      <td>A002</td>\n",
       "      <td>9.0</td>\n",
       "      <td>NB5</td>\n",
       "      <td>NaN</td>\n",
       "      <td>DCS belta is around 1.6. need to look at data</td>\n",
       "    </tr>\n",
       "    <tr>\n",
       "      <th>951</th>\n",
       "      <td>A001</td>\n",
       "      <td>6.0</td>\n",
       "      <td>NB5</td>\n",
       "      <td>NaN</td>\n",
       "      <td>None</td>\n",
       "    </tr>\n",
       "    <tr>\n",
       "      <th>953</th>\n",
       "      <td>A001</td>\n",
       "      <td>5.0</td>\n",
       "      <td>NB5</td>\n",
       "      <td>NaN</td>\n",
       "      <td>pma 40 wks \\nbaby is not happy camper. we only...</td>\n",
       "    </tr>\n",
       "    <tr>\n",
       "      <th>956</th>\n",
       "      <td>A001</td>\n",
       "      <td>4.0</td>\n",
       "      <td>NB5</td>\n",
       "      <td>NaN</td>\n",
       "      <td>pma 39 wks\\nroom air</td>\n",
       "    </tr>\n",
       "    <tr>\n",
       "      <th>964</th>\n",
       "      <td>A001</td>\n",
       "      <td>1.0</td>\n",
       "      <td>NB5</td>\n",
       "      <td>NaN</td>\n",
       "      <td>baby is on high frequency jet ventilator\\nbeds...</td>\n",
       "    </tr>\n",
       "  </tbody>\n",
       "</table>\n",
       "<p>156 rows × 5 columns</p>\n",
       "</div>"
      ],
      "text/plain": [
       "    subject_id          Msmt # probe                     Filters Used  \\\n",
       "8         B125             NaN   NB5  (S1): CAL1034: 0.2 CAL2127: 0.2   \n",
       "9         B095             NaN   NB5  (S1): CAL1034: 0.1 CAL2127: 0.2   \n",
       "10        B128  No measurement   NB5    (S1): CAL1034: -8 CAL2127: -8   \n",
       "11        B128             2.0   NB5  (S1): CAL1034: 0.1 CAL2127: 0.2   \n",
       "12        B110            15.0   NB5         (S1): CAL1034:  CAL2127:   \n",
       "..         ...             ...   ...                              ...   \n",
       "944       A002             9.0   NB5                              NaN   \n",
       "951       A001             6.0   NB5                              NaN   \n",
       "953       A001             5.0   NB5                              NaN   \n",
       "956       A001             4.0   NB5                              NaN   \n",
       "964       A001             1.0   NB5                              NaN   \n",
       "\n",
       "                                                 Notes  \n",
       "8    general: \\nCALIB_1 (400,504,562,608): 0.2 ND\\n...  \n",
       "9    general: \\nCALIB_1 (413,494,561,605): ND 0.1\\n...  \n",
       "10        general: \\nRF_1 (398,466,518,529): disregard  \n",
       "11   general: patient extremely fussy so measuremen...  \n",
       "12   general: \\nCALIB_1 (389,475,545,589): No Filte...  \n",
       "..                                                 ...  \n",
       "944      DCS belta is around 1.6. need to look at data  \n",
       "951                                               None  \n",
       "953  pma 40 wks \\nbaby is not happy camper. we only...  \n",
       "956                               pma 39 wks\\nroom air  \n",
       "964  baby is on high frequency jet ventilator\\nbeds...  \n",
       "\n",
       "[156 rows x 5 columns]"
      ]
     },
     "execution_count": 19,
     "metadata": {},
     "output_type": "execute_result"
    }
   ],
   "source": [
    "spot_df"
   ]
  },
  {
   "cell_type": "code",
   "execution_count": 36,
   "metadata": {},
   "outputs": [],
   "source": [
    "filters = ['1034', '1084', '2127']"
   ]
  },
  {
   "cell_type": "code",
   "execution_count": 45,
   "metadata": {},
   "outputs": [
    {
     "data": {
      "text/plain": [
       "'(S1): CAL1034: 0.2 CAL2127: 0.2'"
      ]
     },
     "execution_count": 45,
     "metadata": {},
     "output_type": "execute_result"
    }
   ],
   "source": [
    "filters_used = (spot_df['Filters Used']).to_list()\n",
    "filters_used[0]\n",
    "info = ''\n",
    "for i in filters_used[0]:\n",
    "    info = info+i\n",
    "\n",
    "info"
   ]
  },
  {
   "cell_type": "code",
   "execution_count": 42,
   "metadata": {},
   "outputs": [
    {
     "ename": "TypeError",
     "evalue": "string indices must be integers",
     "output_type": "error",
     "traceback": [
      "\u001b[0;31m---------------------------------------------------------------------------\u001b[0m",
      "\u001b[0;31mTypeError\u001b[0m                                 Traceback (most recent call last)",
      "Input \u001b[0;32mIn [42]\u001b[0m, in \u001b[0;36m<cell line: 4>\u001b[0;34m()\u001b[0m\n\u001b[1;32m      6\u001b[0m info \u001b[38;5;241m=\u001b[39m \u001b[38;5;124m'\u001b[39m\u001b[38;5;124m'\u001b[39m\n\u001b[1;32m      7\u001b[0m \u001b[38;5;28;01mfor\u001b[39;00m i \u001b[38;5;129;01min\u001b[39;00m (filter_info):\n\u001b[0;32m----> 8\u001b[0m     info \u001b[38;5;241m=\u001b[39m info \u001b[38;5;241m+\u001b[39m \u001b[38;5;28mstr\u001b[39m(filter_info[i])\n\u001b[1;32m      9\u001b[0m \u001b[38;5;28mprint\u001b[39m(info)\n",
      "\u001b[0;31mTypeError\u001b[0m: string indices must be integers"
     ]
    }
   ],
   "source": [
    "sesion_1  = []\n",
    "sesion_2 = []\n",
    "\n",
    "for filter_info in filters_used:\n",
    "    if 'S1' or 'S2' in filter_info:\n",
    "        info = ''\n",
    "        i = 0\n",
    "        while i < len(filter_info):\n",
    "            info = info + filter_info[i]\n",
    "            i = i+1\n",
    "            \n",
    "            #Once S1 is in info we start looking for the different filters\n",
    "\n",
    "            if 'S1' in info:\n",
    "                filters_copy = filters\n",
    "                info = ''\n",
    "                info = info + filter_info[i]\n",
    "                #while we haven't reach the S2 measurments we will look into the firdt session filters\n",
    "                while 'S2' not in info:\n",
    "                    if 'CAL' in info:\n",
    "                        \n",
    "                         \n",
    "                    info = info + filter_info[i]\n",
    "                \n",
    "        "
   ]
  },
  {
   "cell_type": "code",
   "execution_count": 51,
   "metadata": {},
   "outputs": [
    {
     "name": "stdout",
     "output_type": "stream",
     "text": [
      "\n",
      "(\n",
      "(S\n",
      "(S1\n",
      "(S1)\n",
      "(S1):\n",
      "(S1): \n",
      "(S1): C\n",
      "(S1): CA\n",
      "(S1): CAL\n",
      "(S1): CAL1\n",
      "(S1): CAL10\n",
      "(S1): CAL103\n",
      "(S1): CAL1034\n",
      "(S1): CAL1034:\n",
      "(S1): CAL1034: \n",
      "(S1): CAL1034: 0\n",
      "(S1): CAL1034: 0.\n",
      "(S1): CAL1034: 0.2\n",
      "(S1): CAL1034: 0.2 \n",
      "(S1): CAL1034: 0.2 C\n",
      "(S1): CAL1034: 0.2 CA\n",
      "(S1): CAL1034: 0.2 CAL\n",
      "(S1): CAL1034: 0.2 CAL2\n",
      "(S1): CAL1034: 0.2 CAL21\n",
      "(S1): CAL1034: 0.2 CAL212\n"
     ]
    }
   ],
   "source": [
    "filters_used[0]\n",
    "info = ''\n",
    "i = 0 \n",
    "while '2127' not in info:\n",
    "    print(info)\n",
    "    info= info+ filters_used[0][i]\n",
    "    i=i+1"
   ]
  },
  {
   "cell_type": "code",
   "execution_count": 62,
   "metadata": {},
   "outputs": [],
   "source": [
    "n = 1\n",
    "if filters[n] in info: \n",
    "    print(filters[n])"
   ]
  },
  {
   "cell_type": "code",
   "execution_count": 49,
   "metadata": {},
   "outputs": [
    {
     "data": {
      "text/plain": [
       "'('"
      ]
     },
     "execution_count": 49,
     "metadata": {},
     "output_type": "execute_result"
    }
   ],
   "source": [
    "filters_used[0][0]\n"
   ]
  },
  {
   "cell_type": "code",
   "execution_count": null,
   "metadata": {},
   "outputs": [],
   "source": []
  }
 ],
 "metadata": {
  "kernelspec": {
   "display_name": "BwhHarvard",
   "language": "python",
   "name": "python3"
  },
  "language_info": {
   "codemirror_mode": {
    "name": "ipython",
    "version": 3
   },
   "file_extension": ".py",
   "mimetype": "text/x-python",
   "name": "python",
   "nbconvert_exporter": "python",
   "pygments_lexer": "ipython3",
   "version": "3.9.5"
  }
 },
 "nbformat": 4,
 "nbformat_minor": 2
}
