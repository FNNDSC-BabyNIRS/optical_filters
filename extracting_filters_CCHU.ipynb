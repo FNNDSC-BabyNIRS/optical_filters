{
 "cells": [
  {
   "cell_type": "code",
   "execution_count": 1,
   "metadata": {},
   "outputs": [],
   "source": [
    "import pandas as pd\n",
    "import numpy as np\n",
    "from matplotlib import colors\n",
    "from matplotlib import rc\n",
    "import matplotlib.pyplot as plt\n",
    "\n",
    "from matplotlib import rcParams\n",
    "\n",
    "latex_path = '/usr/local/texlive/2023/bin/universal-darwin'\n",
    "\n",
    "rcParams['text.usetex'] = True\n",
    "rcParams['text.latex.preamble'] = r'\\usepackage{{amsmath}}\\usepackage{{amsfonts}}\\usepackage{{amssymb}}'\n",
    "rcParams['font.family'] = 'serif'\n",
    "rcParams['font.serif'] = ['Computer Modern Roman']\n",
    "rcParams['mathtext.fontset'] = 'cm'"
   ]
  },
  {
   "cell_type": "code",
   "execution_count": 2,
   "metadata": {},
   "outputs": [
    {
     "name": "stderr",
     "output_type": "stream",
     "text": [
      "/Library/Frameworks/Python.framework/Versions/3.9/lib/python3.9/site-packages/openpyxl/styles/stylesheet.py:226: UserWarning: Workbook contains no default style, apply openpyxl's default\n",
      "  warn(\"Workbook contains no default style, apply openpyxl's default\")\n"
     ]
    }
   ],
   "source": [
    "\n",
    "file_name = 'CCHU_NIRS.xlsx'\n",
    "df = pd.read_excel(file_name)"
   ]
  },
  {
   "cell_type": "code",
   "execution_count": 3,
   "metadata": {},
   "outputs": [],
   "source": [
    "df = df[['Subject_ID','probe', 'Block1 (S1)' ,'Filter Used for Block 1 (S1)','Block2 (S1)','Filter Used for Block 2 (S1)','Block1 (S2)','Filter Used for Block 1 (S2)', 'Block2 (S2)',\n",
    "                'Filter Used for Block 2 (S2)', 'Block1 (S3)','Filter Used for Block 1 (S3)', 'Block2 (S3)','Filter Used for Block 2 (S3)']]"
   ]
  },
  {
   "cell_type": "code",
   "execution_count": 4,
   "metadata": {},
   "outputs": [
    {
     "data": {
      "text/html": [
       "<div>\n",
       "<style scoped>\n",
       "    .dataframe tbody tr th:only-of-type {\n",
       "        vertical-align: middle;\n",
       "    }\n",
       "\n",
       "    .dataframe tbody tr th {\n",
       "        vertical-align: top;\n",
       "    }\n",
       "\n",
       "    .dataframe thead th {\n",
       "        text-align: right;\n",
       "    }\n",
       "</style>\n",
       "<table border=\"1\" class=\"dataframe\">\n",
       "  <thead>\n",
       "    <tr style=\"text-align: right;\">\n",
       "      <th></th>\n",
       "      <th>Subject_ID</th>\n",
       "      <th>probe</th>\n",
       "      <th>Block1 (S1)</th>\n",
       "      <th>Filter Used for Block 1 (S1)</th>\n",
       "      <th>Block2 (S1)</th>\n",
       "      <th>Filter Used for Block 2 (S1)</th>\n",
       "      <th>Block1 (S2)</th>\n",
       "      <th>Filter Used for Block 1 (S2)</th>\n",
       "      <th>Block2 (S2)</th>\n",
       "      <th>Filter Used for Block 2 (S2)</th>\n",
       "      <th>Block1 (S3)</th>\n",
       "      <th>Filter Used for Block 1 (S3)</th>\n",
       "      <th>Block2 (S3)</th>\n",
       "      <th>Filter Used for Block 2 (S3)</th>\n",
       "    </tr>\n",
       "  </thead>\n",
       "  <tbody>\n",
       "    <tr>\n",
       "      <th>0</th>\n",
       "      <td>NC301</td>\n",
       "      <td>CCHUNB6A</td>\n",
       "      <td>1084.0</td>\n",
       "      <td>0.3</td>\n",
       "      <td>2103.0</td>\n",
       "      <td>0.3</td>\n",
       "      <td>NaN</td>\n",
       "      <td>NaN</td>\n",
       "      <td>NaN</td>\n",
       "      <td>NaN</td>\n",
       "      <td>NaN</td>\n",
       "      <td>NaN</td>\n",
       "      <td>NaN</td>\n",
       "      <td>NaN</td>\n",
       "    </tr>\n",
       "    <tr>\n",
       "      <th>1</th>\n",
       "      <td>NC301</td>\n",
       "      <td>CCHUNB6A</td>\n",
       "      <td>1084</td>\n",
       "      <td>0.5</td>\n",
       "      <td>2103</td>\n",
       "      <td>0.5</td>\n",
       "      <td>NaN</td>\n",
       "      <td>NaN</td>\n",
       "      <td>NaN</td>\n",
       "      <td>NaN</td>\n",
       "      <td>NaN</td>\n",
       "      <td>NaN</td>\n",
       "      <td>NaN</td>\n",
       "      <td>NaN</td>\n",
       "    </tr>\n",
       "    <tr>\n",
       "      <th>2</th>\n",
       "      <td>NC302</td>\n",
       "      <td>CCHUNB6A</td>\n",
       "      <td>1084</td>\n",
       "      <td>0.3</td>\n",
       "      <td>2103</td>\n",
       "      <td>0.3</td>\n",
       "      <td>NaN</td>\n",
       "      <td>NaN</td>\n",
       "      <td>NaN</td>\n",
       "      <td>NaN</td>\n",
       "      <td>NaN</td>\n",
       "      <td>NaN</td>\n",
       "      <td>NaN</td>\n",
       "      <td>NaN</td>\n",
       "    </tr>\n",
       "    <tr>\n",
       "      <th>3</th>\n",
       "      <td>NC302</td>\n",
       "      <td>CCHUNB6A</td>\n",
       "      <td>1084</td>\n",
       "      <td>0.3</td>\n",
       "      <td>2103</td>\n",
       "      <td>0.3</td>\n",
       "      <td>NaN</td>\n",
       "      <td>NaN</td>\n",
       "      <td>NaN</td>\n",
       "      <td>NaN</td>\n",
       "      <td>NaN</td>\n",
       "      <td>NaN</td>\n",
       "      <td>NaN</td>\n",
       "      <td>NaN</td>\n",
       "    </tr>\n",
       "    <tr>\n",
       "      <th>4</th>\n",
       "      <td>NC303</td>\n",
       "      <td>CCHUNB6A</td>\n",
       "      <td>1084</td>\n",
       "      <td>0.3</td>\n",
       "      <td>2103</td>\n",
       "      <td>0.3</td>\n",
       "      <td>NaN</td>\n",
       "      <td>NaN</td>\n",
       "      <td>NaN</td>\n",
       "      <td>NaN</td>\n",
       "      <td>NaN</td>\n",
       "      <td>NaN</td>\n",
       "      <td>NaN</td>\n",
       "      <td>NaN</td>\n",
       "    </tr>\n",
       "    <tr>\n",
       "      <th>...</th>\n",
       "      <td>...</td>\n",
       "      <td>...</td>\n",
       "      <td>...</td>\n",
       "      <td>...</td>\n",
       "      <td>...</td>\n",
       "      <td>...</td>\n",
       "      <td>...</td>\n",
       "      <td>...</td>\n",
       "      <td>...</td>\n",
       "      <td>...</td>\n",
       "      <td>...</td>\n",
       "      <td>...</td>\n",
       "      <td>...</td>\n",
       "      <td>...</td>\n",
       "    </tr>\n",
       "    <tr>\n",
       "      <th>2343</th>\n",
       "      <td>NE300</td>\n",
       "      <td>CCHUNB6A</td>\n",
       "      <td>1084</td>\n",
       "      <td>0.2</td>\n",
       "      <td>2103</td>\n",
       "      <td>0.2</td>\n",
       "      <td>NaN</td>\n",
       "      <td>NaN</td>\n",
       "      <td>NaN</td>\n",
       "      <td>NaN</td>\n",
       "      <td>NaN</td>\n",
       "      <td>NaN</td>\n",
       "      <td>NaN</td>\n",
       "      <td>NaN</td>\n",
       "    </tr>\n",
       "    <tr>\n",
       "      <th>2344</th>\n",
       "      <td>NE300</td>\n",
       "      <td>CCHUNB6A</td>\n",
       "      <td>1084</td>\n",
       "      <td>0.3</td>\n",
       "      <td>2103</td>\n",
       "      <td>0.3</td>\n",
       "      <td>1084</td>\n",
       "      <td>0.3</td>\n",
       "      <td>2103</td>\n",
       "      <td>0.4</td>\n",
       "      <td>NaN</td>\n",
       "      <td>NaN</td>\n",
       "      <td>NaN</td>\n",
       "      <td>NaN</td>\n",
       "    </tr>\n",
       "    <tr>\n",
       "      <th>2345</th>\n",
       "      <td>NE300</td>\n",
       "      <td>CCHUNB6A</td>\n",
       "      <td>1084</td>\n",
       "      <td>0.3</td>\n",
       "      <td>2103</td>\n",
       "      <td>0.3</td>\n",
       "      <td>NaN</td>\n",
       "      <td>NaN</td>\n",
       "      <td>NaN</td>\n",
       "      <td>NaN</td>\n",
       "      <td>NaN</td>\n",
       "      <td>NaN</td>\n",
       "      <td>NaN</td>\n",
       "      <td>NaN</td>\n",
       "    </tr>\n",
       "    <tr>\n",
       "      <th>2346</th>\n",
       "      <td>NE300</td>\n",
       "      <td>CCHUNB6A</td>\n",
       "      <td>1084</td>\n",
       "      <td>0.3 Good for A &amp; B; No Filter Good for C &amp; D</td>\n",
       "      <td>2103</td>\n",
       "      <td>0.3 Good for A &amp; B; No Filter Good for C &amp; D</td>\n",
       "      <td>NaN</td>\n",
       "      <td>NaN</td>\n",
       "      <td>NaN</td>\n",
       "      <td>NaN</td>\n",
       "      <td>NaN</td>\n",
       "      <td>NaN</td>\n",
       "      <td>NaN</td>\n",
       "      <td>NaN</td>\n",
       "    </tr>\n",
       "    <tr>\n",
       "      <th>2347</th>\n",
       "      <td>NE300</td>\n",
       "      <td>CCHUNB6A</td>\n",
       "      <td>1084</td>\n",
       "      <td>0.2</td>\n",
       "      <td>2103</td>\n",
       "      <td>0.3</td>\n",
       "      <td>NaN</td>\n",
       "      <td>NaN</td>\n",
       "      <td>NaN</td>\n",
       "      <td>NaN</td>\n",
       "      <td>NaN</td>\n",
       "      <td>NaN</td>\n",
       "      <td>NaN</td>\n",
       "      <td>NaN</td>\n",
       "    </tr>\n",
       "  </tbody>\n",
       "</table>\n",
       "<p>2348 rows × 14 columns</p>\n",
       "</div>"
      ],
      "text/plain": [
       "     Subject_ID     probe Block1 (S1)  \\\n",
       "0         NC301  CCHUNB6A      1084.0   \n",
       "1         NC301  CCHUNB6A        1084   \n",
       "2         NC302  CCHUNB6A        1084   \n",
       "3         NC302  CCHUNB6A        1084   \n",
       "4         NC303  CCHUNB6A        1084   \n",
       "...         ...       ...         ...   \n",
       "2343      NE300  CCHUNB6A        1084   \n",
       "2344      NE300  CCHUNB6A        1084   \n",
       "2345      NE300  CCHUNB6A        1084   \n",
       "2346      NE300  CCHUNB6A        1084   \n",
       "2347      NE300  CCHUNB6A        1084   \n",
       "\n",
       "                      Filter Used for Block 1 (S1) Block2 (S1)  \\\n",
       "0                                              0.3      2103.0   \n",
       "1                                              0.5        2103   \n",
       "2                                              0.3        2103   \n",
       "3                                              0.3        2103   \n",
       "4                                              0.3        2103   \n",
       "...                                            ...         ...   \n",
       "2343                                           0.2        2103   \n",
       "2344                                           0.3        2103   \n",
       "2345                                           0.3        2103   \n",
       "2346  0.3 Good for A & B; No Filter Good for C & D        2103   \n",
       "2347                                           0.2        2103   \n",
       "\n",
       "                      Filter Used for Block 2 (S1) Block1 (S2)  \\\n",
       "0                                              0.3         NaN   \n",
       "1                                              0.5         NaN   \n",
       "2                                              0.3         NaN   \n",
       "3                                              0.3         NaN   \n",
       "4                                              0.3         NaN   \n",
       "...                                            ...         ...   \n",
       "2343                                           0.2         NaN   \n",
       "2344                                           0.3        1084   \n",
       "2345                                           0.3         NaN   \n",
       "2346  0.3 Good for A & B; No Filter Good for C & D         NaN   \n",
       "2347                                           0.3         NaN   \n",
       "\n",
       "     Filter Used for Block 1 (S2) Block2 (S2) Filter Used for Block 2 (S2)  \\\n",
       "0                             NaN         NaN                          NaN   \n",
       "1                             NaN         NaN                          NaN   \n",
       "2                             NaN         NaN                          NaN   \n",
       "3                             NaN         NaN                          NaN   \n",
       "4                             NaN         NaN                          NaN   \n",
       "...                           ...         ...                          ...   \n",
       "2343                          NaN         NaN                          NaN   \n",
       "2344                          0.3        2103                          0.4   \n",
       "2345                          NaN         NaN                          NaN   \n",
       "2346                          NaN         NaN                          NaN   \n",
       "2347                          NaN         NaN                          NaN   \n",
       "\n",
       "     Block1 (S3) Filter Used for Block 1 (S3) Block2 (S3)  \\\n",
       "0            NaN                          NaN         NaN   \n",
       "1            NaN                          NaN         NaN   \n",
       "2            NaN                          NaN         NaN   \n",
       "3            NaN                          NaN         NaN   \n",
       "4            NaN                          NaN         NaN   \n",
       "...          ...                          ...         ...   \n",
       "2343         NaN                          NaN         NaN   \n",
       "2344         NaN                          NaN         NaN   \n",
       "2345         NaN                          NaN         NaN   \n",
       "2346         NaN                          NaN         NaN   \n",
       "2347         NaN                          NaN         NaN   \n",
       "\n",
       "     Filter Used for Block 2 (S3)  \n",
       "0                             NaN  \n",
       "1                             NaN  \n",
       "2                             NaN  \n",
       "3                             NaN  \n",
       "4                             NaN  \n",
       "...                           ...  \n",
       "2343                          NaN  \n",
       "2344                          NaN  \n",
       "2345                          NaN  \n",
       "2346                          NaN  \n",
       "2347                          NaN  \n",
       "\n",
       "[2348 rows x 14 columns]"
      ]
     },
     "execution_count": 4,
     "metadata": {},
     "output_type": "execute_result"
    }
   ],
   "source": [
    "df"
   ]
  },
  {
   "cell_type": "code",
   "execution_count": 5,
   "metadata": {},
   "outputs": [
    {
     "name": "stdout",
     "output_type": "stream",
     "text": [
      "Different block names for Block 1 (S1)\n",
      "[1084.0 '1084' nan 2101.0 2102.0 '2101' '2102' 2103.0 '-' '-8']\n",
      "[1084.0 nan 2101.0 2102.0 2103.0]\n"
     ]
    }
   ],
   "source": [
    "print('Different block names for Block 1 (S1)')\n",
    "print(df['Block1 (S1)'].unique())\n",
    "df.loc[df['Block1 (S1)'] == '1084', 'Block1 (S1)'] = float(1084)\n",
    "df.loc[df['Block1 (S1)'] == '2101', 'Block1 (S1)'] = float(2101)\n",
    "df.loc[df['Block1 (S1)'] == '2102', 'Block1 (S1)'] = float(2102)\n",
    "df = df[df['Block1 (S1)'] != '-']; df = df[df['Block1 (S1)'] != '-8'];\n",
    "\n",
    "print(df['Block1 (S1)'].unique())\n"
   ]
  },
  {
   "cell_type": "code",
   "execution_count": 6,
   "metadata": {},
   "outputs": [
    {
     "name": "stdout",
     "output_type": "stream",
     "text": [
      "Block name 1084.0 has 2282 rows\n",
      "Block name nan has 0 rows\n",
      "Block name 2101.0 has 29 rows\n",
      "Block name 2102.0 has 8 rows\n",
      "Block name 2103.0 has 1 rows\n"
     ]
    }
   ],
   "source": [
    "for b in df['Block1 (S1)'].unique():\n",
    "    print('Block name '+str(b) + ' has '+str(len(df[df['Block1 (S1)']==b])) + ' rows')\n"
   ]
  },
  {
   "cell_type": "markdown",
   "metadata": {},
   "source": [
    "#### In the upcoming code the rows for the different blocks are filtered for A,B,C distances. Remaining only the D distances.\n",
    "#### There are also values like 0.4 ; 0.2 which aren't taken into account because we don't know the distances"
   ]
  },
  {
   "cell_type": "code",
   "execution_count": 7,
   "metadata": {},
   "outputs": [
    {
     "name": "stdout",
     "output_type": "stream",
     "text": [
      "Element 52  :  0.5Good for ABC, 0.3GOOD FOR D -- extracted value:  0.3\n",
      "Element 143  :  1.0 Good for A, 0.7 Good for B, 0.2 Good for C & D -- extracted value:  0.2\n",
      "Element 144  :  0.8 Good for A & B, 0.3 Good for C & D -- extracted value:  0.3\n",
      "Element 145  :  0.1 Good for C and D, 0.6 Good for A and B -- extracted value:  0.1\n",
      "Element 146  :  0.7 Good for A and B, 0.1 Good for C and D -- extracted value:  0.1\n",
      "Element 147  :  0.7 Good for A and B, 0.1 Good for C and D -- extracted value:  0.1\n",
      "Element 232  :  0.3 Good for A, B and C, 0.1 Good for C and D -- extracted value:  0.1\n",
      "Element 233  :  0.3 Good for A and B, 0.1 Good for C and D -- extracted value:  0.1\n",
      "Element 317  :  0.3 Good for A, B, and C, 0.1 Good for C and D -- extracted value:  0.1\n",
      "Element 382  :  0.8 Good for A and B; 0.4 Good for C and D -- extracted value:  0.4\n",
      "Element 383  :  0.6 Good for A, B and C, 0.2. Good for D -- extracted value:  0.2\n",
      "Element 384  :  0.6 good for A, B & C detectors, 0.5 good for C and D detectors -- extracted value:  0.5\n",
      "Element 451  :  0.2, Good for C and D & 0.7, Good for A and B -- extracted value:  0.2\n",
      "Element 466  :  0.3 Good for A, B, C and 0.1 Good for C and D -- extracted value:  0.1\n",
      "Element 472  :  0.5 Good for A, B, and C, 0.2 Good for C and D -- extracted value:  0.2\n",
      "Element 473  :  0.5 Good  for A,B and C, 0.1 Good for C and D -- extracted value:  0.1\n",
      "Element 492  :  0.1 Good for C and D, 0.4 Good for A, B and C -- extracted value:  0.1\n",
      "Element 703  :  0.6 Good for A, B & C, 0.3 Good for D -- extracted value:  0.3\n",
      "Element 706  :  1.0 Good for A & B, 0.3 Good for C & D -- extracted value:  0.3\n",
      "Element 748  :  0.4 Good for A, B, & C, 0.3 Good for C & D -- extracted value:  0.3\n",
      "Element 769  :  0.3 Good for A, B & C, 0.1 Good for D -- extracted value:  0.1\n",
      "Element 801  :  0.4 Good for A & B, 0.1 Good for C & D -- extracted value:  0.1\n",
      "Element 808  :  0.5 Good for A, B & C, 0.3 Good for D -- extracted value:  0.3\n",
      "Element 810  :  0.7 Good for A & B, 0.5 Good for C & D -- extracted value:  0.5\n",
      "Element 811  :  0.7 Good for A & B, 0.3 Good for C & D -- extracted value:  0.3\n",
      "Element 856  :  0.4 Good for A, B & C; 0.2 Good for D -- extracted value:  0.2\n",
      "Element 877  :  0.5 Good for A, 0.3 Good for B, C & D -- extracted value:  0.3\n",
      "Element 906  :  0.4 Good for A & B, 0.1 Good for C & D -- extracted value:  0.1\n",
      "Element 961  :  0.9(good for AB); 0.5(GOOD FOR CD) -- extracted value:  0.5\n",
      "Element 962  :  0.7 Good for A & B, 0.4 Good for C & D -- extracted value:  0.4\n",
      "Element 966  :  0.6 Good for A, B & C; 0.3 Good for D -- extracted value:  0.3\n",
      "Element 1108  :  0.6 Good for A & B, 0.4 Good for C & D -- extracted value:  0.4\n",
      "Element 1110  :  0.5 Good for A & B, 0.2 Good for C & D -- extracted value:  0.2\n",
      "Element 1144  :  0.8 Good for A, B & C, 0.5 Good for D -- extracted value:  0.5\n",
      "Element 1188  :  0.3 Good for A & B, 0.1 Good for C & D -- extracted value:  0.1\n",
      "Element 1238  :  0.3 Good for A, 0.1 Good for B, C & D -- extracted value:  0.1\n",
      "Element 1246  :  0.1 Good for B,C,D, 0.3 Good for A -- extracted value:  0.1\n",
      "Element 1251  :  0.7 Good for A & B, 0.3 Good for C & D -- extracted value:  0.3\n",
      "Element 1254  :  0.8 Good for A & B, 0.4 Good for C & D -- extracted value:  0.4\n",
      "Element 1269  :  0.5GOOD FOR ABC,0.2GOOD FOR D -- extracted value:  0.2\n",
      "Element 1270  :  0.5 Good for A, B & C, 0.1 Good for D -- extracted value:  0.1\n",
      "Element 1273  :  0.5 Good for A, B & C, 0.2 Good for D -- extracted value:  0.2\n",
      "Element 1274  :  0.5 Good for A, B 7 C, 0.3 Good for D -- extracted value:  0.3\n",
      "Element 1275  :  0.5 Good for A, B & C, 0.3 Good for D -- extracted value:  0.3\n",
      "Element 1277  :  0.5 Good for A and B, 0.1 good for C and D -- extracted value:  0.1\n",
      "Element 1326  :  0.2 Good for C & D -- extracted value:  0.2\n",
      "Element 1327  :  0.3 Good for A, B & C, 0.1 Good for D -- extracted value:  0.1\n",
      "Element 1362  :  0.5 Good for A & B, 0.2 Good for C & D -- extracted value:  0.2\n",
      "Element 1364  :  0.5 Good for A & B, 0.2 Good for C & D -- extracted value:  0.2\n",
      "Element 1367  :  0.4 Good for A & B, 0.1 Good for C & D -- extracted value:  0.1\n",
      "Element 1389  :  0.9 Good for A & C, 0.8 Good for D, 1.1 Good for B -- extracted value:  0.8\n",
      "Element 1390  :  1.0 Good for A & B, 0.5 Good for C & D -- extracted value:  0.5\n",
      "Element 1391  :  0.7Good for A,B,C; 0.5 Good for D -- extracted value:  0.5\n",
      "Element 1394  :  0.5 Good for A & B, 0.1 Good for C & D -- extracted value:  0.1\n",
      "Element 1396  :  0.6 Good for A, B & C, 0.3 Good for D -- extracted value:  0.3\n",
      "Element 1445  :  0.5 Good for A, B & C, 0.1 Good for D -- extracted value:  0.1\n",
      "Element 1446  :  0.8 Good for A & B, 0.4 Good for C & D -- extracted value:  0.4\n",
      "Element 1447  :  0.6 Good for A & B, 0.3 Good for C & D -- extracted value:  0.3\n",
      "Element 1449  :  0.3 Good for A, B & C, 0.1 Good for D -- extracted value:  0.1\n",
      "Element 1450  :  0.5 Good for A & B, 0.1 Good for C & D -- extracted value:  0.1\n",
      "Element 1452  :  1.1 Good for A, B & C, 0.8 Good for D -- extracted value:  0.8\n",
      "Element 1456  :  0.3 Good for A, B & C, 0.2 Good for D -- extracted value:  0.2\n",
      "Element 1575  :  0.3 Good for A & B, 0.1 Good for C & D -- extracted value:  0.1\n",
      "Element 1576  :  0.3 Good for A & B, 0.1 Good for C & D -- extracted value:  0.1\n",
      "Element 1607  :  0.7 Good for A & B, 0.3 Good for C & D -- extracted value:  0.3\n",
      "Element 1618  :  0.6 Good for A, B & C, 0.4 Good for D -- extracted value:  0.4\n",
      "Element 1671  :  0.5 Good for A & B, 0.2 Good for C & D -- extracted value:  0.2\n",
      "Element 1687  :  0.6 Good for A, B & C, 0.3 Good for D -- extracted value:  0.3\n",
      "Element 1689  :  0.3 Good for A, B & C ; 0.1 Good for D -- extracted value:  0.1\n",
      "Element 1712  :  0.3 Good for A, B & C, 0.1 Good for D -- extracted value:  0.1\n",
      "Element 1713  :  0.2 Good for A & B, 0.1 Good for C & D -- extracted value:  0.1\n",
      "Element 1777  :  0.7 Good for A, B & C, 0.4 Good for D -- extracted value:  0.4\n",
      "Element 1881  :  0.3 Good for A, B & C, 0.1 Good for D -- extracted value:  0.1\n",
      "Element 1882  :  0.3 Good for A & B, 0.1 Good for C & D -- extracted value:  0.1\n",
      "Element 1906  :  0.5 Good for A, B & C, 0.1 Good for D -- extracted value:  0.1\n",
      "Element 1907  :  0.3 Good for A & B, 0.1 Good for C & D -- extracted value:  0.1\n",
      "Element 1908  :  0.8 Good for A & B, 0.5 Good for C & D -- extracted value:  0.5\n",
      "Element 1930  :  0.5,  good for A,B,C, 0.2, good for D -- extracted value:  0.2\n",
      "Element 1933  :  0.6 Good for A, B & C, 0.1 Good for D -- extracted value:  0.1\n",
      "Element 1934  :  0.8 Good for A & B, 0.5 Good for C & D -- extracted value:  0.5\n",
      "Element 1935  :  0.9 Good for A & B, 0.4 Good for C & D -- extracted value:  0.4\n",
      "Element 1936  :  0.6. Good for A, B & C, 0.2 Good for D -- extracted value:  0.2\n",
      "Element 1937  :  0.5 Good for A & B, 0.1 Good for C & D -- extracted value:  0.1\n",
      "Element 1939  :  0.5 Good for A & B, 0.1 Good for C & D -- extracted value:  0.1\n",
      "Element 1945  :  1.0 Good for A & C, 1.2 Good for B, 0.8 Good for D -- extracted value:  0.8\n",
      "Element 1957  :  0.5 Good for A & B, 0.1 Good for C & D -- extracted value:  0.1\n",
      "Element 1959  :  0.5 nd  Good for ABC; 0.2Good for D -- extracted value:  0.2\n",
      "Element 1979  :  0.5 Good for A, B & C; 0.2 Good for D -- extracted value:  0.2\n",
      "Element 1984  :  0.5 Good for A & B, 0.1 Good for C & D -- extracted value:  0.1\n",
      "Element 1987  :  0.4 Good for A, B & C, 0.3 Good for D -- extracted value:  0.3\n",
      "Element 1990  :  0.5 Good for A, B & C, 0.3 Good for D -- extracted value:  0.3\n",
      "Element 1996  :  0.6 Good for A, B & C, 0.4 Good for D -- extracted value:  0.4\n",
      "Element 1997  :  0.6 Good for A & B, 0.3 Good for C & D -- extracted value:  0.3\n",
      "Element 1999  :  0.6 Good for A & B, 0.2 Good for C & D -- extracted value:  0.2\n",
      "Element 2013  :  0.5 Good for A, B & C, 0.2 Good for D -- extracted value:  0.2\n",
      "Element 2040  :  0.3 Good for A, B & C, 0.1 Good for D -- extracted value:  0.1\n",
      "Element 2055  :  0.6 Good for A, B & C, 0.3 Good for D -- extracted value:  0.3\n",
      "Element 2056  :  0.3 Good for A,B & C, 0.1 Good for D -- extracted value:  0.1\n",
      "Element 2066  :  0.7 Good for A & B, 0.3 Good for C & D -- extracted value:  0.3\n",
      "Element 2099  :  0.5 Good for A & B, 0.2 Good for C & D -- extracted value:  0.2\n",
      "Element 2171  :  0.6 Good for A, B & C, 0.3 Good for D -- extracted value:  0.3\n",
      "Element 2172  :  0.7 Good for A, B & C, 0.4 Good for D -- extracted value:  0.4\n",
      "Element 2212  :  0.4 Good for A & B, O.1 Good for C & D -- extracted value:  0.4\n"
     ]
    }
   ],
   "source": [
    "# Identifying how many rows have the D distance and extracting that value, filtering A, B and C distances. \n",
    "\n",
    "filters_1084 = np.array(df['Filter Used for Block 1 (S1)'][df['Block1 (S1)']== 1084.0])\n",
    "filters_1084_float = filters_1084.copy()\n",
    "rejected_elements = []\n",
    "found_number = False\n",
    "for i,f in enumerate(filters_1084_float): \n",
    "    try:\n",
    "        if any(letter in f for letter in ['A', 'B', 'C']):\n",
    "            #print('i: ' +str(i))\n",
    "\n",
    "            if 'D' in f:\n",
    "                found_number = False\n",
    "                try: \n",
    "                    index = f.index(' D')\n",
    "                except:\n",
    "                    try: \n",
    "                        index = f.index('CD')\n",
    "                    except: \n",
    "                        index = f.index(',D')\n",
    "                    \n",
    "                while found_number == False:\n",
    "                    #print(f[index-3:index])\n",
    "                    if any(char in f[index-3:index] for char in ['No', 'NO', 'no',]):\n",
    "                        found_number = True\n",
    "                        filters_1084_float[i] = np.nan\n",
    "                        rejected_elements = np.append(rejected_elements,str(i) +' '+f)\n",
    "                    elif '0' in f[index-3:index]: \n",
    "                        found_number = True\n",
    "                        print(fr'Element {i}  :  {f} -- extracted value:  {f[index-3:index]}')\n",
    "                        filters_1084_float[i] = float(f[index-3:index])\n",
    "                    else: index = index - 1 \n",
    "                \n",
    "            else: \n",
    "                rejected_elements = np.append(rejected_elements,str(i) +' '+f)\n",
    "                filters_1084_float[i] = np.nan\n",
    "\n",
    "        elif ';' in f:\n",
    "            filters_1084_float[i] = np.nan\n",
    "            rejected_elements = np.append(rejected_elements,str(i) +' '+f)\n",
    "\n",
    "\n",
    "    except: \n",
    "        pass\n",
    "\n",
    "#filters_1084_float = filters_1084_float[~np.isnan(filters_1084_float)]\n"
   ]
  },
  {
   "cell_type": "code",
   "execution_count": 8,
   "metadata": {},
   "outputs": [
    {
     "name": "stdout",
     "output_type": "stream",
     "text": [
      "42 rejected rows corresponding to A, B, & C distances\n"
     ]
    }
   ],
   "source": [
    "print(fr'{len(rejected_elements)} rejected rows corresponding to A, B, & C distances')"
   ]
  },
  {
   "cell_type": "markdown",
   "metadata": {},
   "source": [
    "### Manual processing of data"
   ]
  },
  {
   "cell_type": "code",
   "execution_count": 9,
   "metadata": {},
   "outputs": [
    {
     "name": "stdout",
     "output_type": "stream",
     "text": [
      "index 77:  0.4 nd\n",
      "index 789:  0.3 for first block msmt,0.2 for second\n",
      "index 794:  1.1/0.7\n",
      "index 932:  No filter\n",
      "index 1053:  No filters noted\n",
      "index 1443:  0.7, 0.4\n",
      "index 1465:  0.4 nd\n",
      "index 1477:  0..9\n",
      "index 1727:  No Filter\n",
      "index 1746:  No Filter\n",
      "index 1904:  0.7, 0.3\n",
      "index 1923:  0.3 nd\n",
      "index 2204:  0.2 nd\n"
     ]
    }
   ],
   "source": [
    "for i,filt  in enumerate(filters_1084_float): \n",
    "    try:\n",
    "        if any(letter in filt for letter in ['nd', '/','No Filter','No filter', ',','..',\"'0.4'\"]):\n",
    "            print(fr'index {i}:  {filters_1084_float[i]}')\n",
    "    except:\n",
    "        pass"
   ]
  },
  {
   "cell_type": "code",
   "execution_count": 10,
   "metadata": {},
   "outputs": [],
   "source": [
    "filters_1084_float[77] = 0.4\n",
    "filters_1084_float[789] = 0.3\n",
    "filters_1084_float[1465] = 0.4\n",
    "filters_1084_float[1923] = 0.3\n",
    "filters_1084_float[2204] = 0.2\n",
    "filters_1084_float = np.delete(filters_1084_float,1904)\n",
    "filters_1084_float = np.delete(filters_1084_float,1746)\n",
    "filters_1084_float = np.delete(filters_1084_float,1727)\n",
    "filters_1084_float = np.delete(filters_1084_float,1477)\n",
    "filters_1084_float = np.delete(filters_1084_float,1443)\n",
    "filters_1084_float = np.delete(filters_1084_float,1053)\n",
    "filters_1084_float = np.delete(filters_1084_float,932)\n",
    "filters_1084_float = np.delete(filters_1084_float,794)\n"
   ]
  },
  {
   "cell_type": "code",
   "execution_count": 12,
   "metadata": {},
   "outputs": [
    {
     "name": "stdout",
     "output_type": "stream",
     "text": [
      "Element 'O.4' at index 2019 could not be converted to float.\n",
      "Array as float: [0.3 0.5 0.3 ... 0.3 nan 0.2]\n"
     ]
    }
   ],
   "source": [
    "arr_float = np.zeros(len(filters_1084_float))\n",
    "arr_str = filters_1084_float\n",
    "for i, elem in enumerate(arr_str):\n",
    "    try:\n",
    "        arr_float[i] = float(elem)\n",
    "    except ValueError:\n",
    "        # Handle cases where conversion fails\n",
    "        print(\"Element '{}' at index {} could not be converted to float.\".format(elem, i))\n",
    "        arr_float[i] = np.nan  # Or any other appropriate value\n",
    "\n",
    "print(\"Array as float:\", arr_float)"
   ]
  },
  {
   "cell_type": "code",
   "execution_count": 13,
   "metadata": {},
   "outputs": [],
   "source": [
    "filters_1084_float[2019] = 0.4\n",
    "filters_1084_float = filters_1084_float.astype(float)\n",
    "filters_1084_float = filters_1084_float[~np.isnan(filters_1084_float)]"
   ]
  },
  {
   "cell_type": "code",
   "execution_count": null,
   "metadata": {},
   "outputs": [],
   "source": []
  },
  {
   "cell_type": "code",
   "execution_count": 18,
   "metadata": {},
   "outputs": [
    {
     "data": {
      "text/plain": [
       "2221"
      ]
     },
     "execution_count": 18,
     "metadata": {},
     "output_type": "execute_result"
    }
   ],
   "source": [
    "len(filters_1084_float)"
   ]
  },
  {
   "cell_type": "code",
   "execution_count": null,
   "metadata": {},
   "outputs": [],
   "source": []
  },
  {
   "cell_type": "code",
   "execution_count": null,
   "metadata": {},
   "outputs": [],
   "source": []
  },
  {
   "cell_type": "code",
   "execution_count": null,
   "metadata": {},
   "outputs": [],
   "source": []
  },
  {
   "cell_type": "code",
   "execution_count": 58,
   "metadata": {},
   "outputs": [
    {
     "data": {
      "text/plain": [
       "array([1084.0, '1084', nan, 2101.0, 2102.0, '2101', '2102', 2103.0, '-',\n",
       "       '-8'], dtype=object)"
      ]
     },
     "execution_count": 58,
     "metadata": {},
     "output_type": "execute_result"
    }
   ],
   "source": [
    "t = df['Block1 (S1)'].unique()\n",
    "t"
   ]
  },
  {
   "cell_type": "code",
   "execution_count": 59,
   "metadata": {},
   "outputs": [
    {
     "data": {
      "text/plain": [
       "float"
      ]
     },
     "execution_count": 59,
     "metadata": {},
     "output_type": "execute_result"
    }
   ],
   "source": [
    "type(t[0])"
   ]
  },
  {
   "cell_type": "code",
   "execution_count": 12,
   "metadata": {},
   "outputs": [],
   "source": [
    "#df[df['Block1 (S1)']=='1084.0']"
   ]
  },
  {
   "cell_type": "code",
   "execution_count": 9,
   "metadata": {},
   "outputs": [],
   "source": [
    "filter_B1_S1 = np.array(df['Filter Used for Block 1 (S1)']); "
   ]
  },
  {
   "cell_type": "code",
   "execution_count": 15,
   "metadata": {},
   "outputs": [
    {
     "data": {
      "text/plain": [
       "array(['CCHUNB6A', 'CCHUNB1', 'CCHUNB3', 'CCHUNB2'], dtype=object)"
      ]
     },
     "execution_count": 15,
     "metadata": {},
     "output_type": "execute_result"
    }
   ],
   "source": [
    "df_1084_b1 = df[df['Block1 (S1)']=='1084']\n",
    "df_1084_b1['probe'].unique()"
   ]
  },
  {
   "cell_type": "code",
   "execution_count": 54,
   "metadata": {},
   "outputs": [],
   "source": [
    "filters = np.array(df_1084_b1['Filter Used for Block 1 (S1)'])"
   ]
  },
  {
   "cell_type": "code",
   "execution_count": 56,
   "metadata": {},
   "outputs": [
    {
     "data": {
      "text/plain": [
       "'0.5'"
      ]
     },
     "execution_count": 56,
     "metadata": {},
     "output_type": "execute_result"
    }
   ],
   "source": []
  },
  {
   "cell_type": "code",
   "execution_count": 29,
   "metadata": {},
   "outputs": [
    {
     "data": {
      "text/plain": [
       "array([1084.0, '1084', nan, 2101.0, 2102.0, '2101', '2102', 2103.0, '-',\n",
       "       '-8'], dtype=object)"
      ]
     },
     "execution_count": 29,
     "metadata": {},
     "output_type": "execute_result"
    }
   ],
   "source": [
    "df['Block1 (S1)'].unique()"
   ]
  },
  {
   "cell_type": "code",
   "execution_count": 48,
   "metadata": {},
   "outputs": [],
   "source": [
    "#df[df['Block1 (S1)']==1084]"
   ]
  },
  {
   "cell_type": "code",
   "execution_count": null,
   "metadata": {},
   "outputs": [],
   "source": []
  },
  {
   "cell_type": "code",
   "execution_count": null,
   "metadata": {},
   "outputs": [],
   "source": []
  },
  {
   "cell_type": "code",
   "execution_count": null,
   "metadata": {},
   "outputs": [],
   "source": []
  }
 ],
 "metadata": {
  "kernelspec": {
   "display_name": "Python 3",
   "language": "python",
   "name": "python3"
  },
  "language_info": {
   "codemirror_mode": {
    "name": "ipython",
    "version": 3
   },
   "file_extension": ".py",
   "mimetype": "text/x-python",
   "name": "python",
   "nbconvert_exporter": "python",
   "pygments_lexer": "ipython3",
   "version": "3.9.5"
  }
 },
 "nbformat": 4,
 "nbformat_minor": 2
}
